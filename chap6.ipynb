{
 "cells": [
  {
   "cell_type": "markdown",
   "id": "492e8869",
   "metadata": {},
   "source": [
    "# 第六章 list、tuple、set 與 dict\n",
    "---\n",
    "本章介紹 Python 常見的容器型別：list、tuple、set 與 dict。每節先以文字說明概念，再搭配可直接執行的程式範例；程式碼中亦附上適度註解，幫助學生理解。"
   ]
  },
  {
   "cell_type": "markdown",
   "id": "24aab3e6",
   "metadata": {},
   "source": [
    "## 6-1 list (串列)\n",
    "**重點：** 有序、可變、可混合型別。"
   ]
  },
  {
   "cell_type": "code",
   "execution_count": null,
   "id": "5d7f91ce",
   "metadata": {},
   "outputs": [],
   "source": [
    "list1 = list(); list2 = list([1,2,3]); list3 = []; list4 = [1,2,3]\n",
    "list1, list2, list3, list4"
   ]
  },
  {
   "cell_type": "code",
   "execution_count": null,
   "id": "77354572",
   "metadata": {},
   "outputs": [],
   "source": [
    "import random\n",
    "L = [1,2,3,4,5]\n",
    "print(len(L), max(L), min(L), sum(L))\n",
    "random.shuffle(L)\n",
    "print('shuffle後:', L)\n",
    "print('choice:', random.choice(L))"
   ]
  },
  {
   "cell_type": "code",
   "execution_count": null,
   "id": "ea0a9c58",
   "metadata": {},
   "outputs": [],
   "source": [
    "[1,2,3] + ['Taipei','Tokyo','Vienna']\n",
    "3 * [1,2,3]"
   ]
  },
  {
   "cell_type": "code",
   "execution_count": null,
   "id": "6092366d",
   "metadata": {},
   "outputs": [],
   "source": [
    "[1, '神隱少女', '宮崎駿'] == ['神隱少女', '宮崎駿', 1], ('Taipei' in [1,'Taipei',2,'Tokyo'])"
   ]
  },
  {
   "cell_type": "code",
   "execution_count": null,
   "id": "eb0c4c22",
   "metadata": {},
   "outputs": [],
   "source": [
    "L = [5,10,15,20,25,30,35,40,45,50]\n",
    "L[2:5], L[3:7]"
   ]
  },
  {
   "cell_type": "code",
   "execution_count": null,
   "id": "236b59f2",
   "metadata": {},
   "outputs": [],
   "source": [
    "list1 = [10,20,30,40,50]\n",
    "list2 = [100,200,300]\n",
    "list1.append(60)\n",
    "list1.extend(list2)\n",
    "list1.insert(1, 1000)\n",
    "list1.remove(1000)\n",
    "last = list1.pop()\n",
    "idx_20 = list1.index(20)\n",
    "cnt_20 = list1.count(20)\n",
    "list1.sort(); list1.reverse()\n",
    "list2_copy = list2.copy(); list2_copy.clear()\n",
    "list1, last, idx_20, cnt_20, list2, list2_copy"
   ]
  },
  {
   "cell_type": "code",
   "execution_count": null,
   "id": "52c43248",
   "metadata": {},
   "outputs": [],
   "source": [
    "[i for i in range(10)], [i*2 for i in range(10)]"
   ]
  },
  {
   "cell_type": "code",
   "execution_count": null,
   "id": "e78f72e5",
   "metadata": {},
   "outputs": [],
   "source": [
    "L = [-1, 1.5, 66, 333, 333, 1234]\n",
    "del L[0]\n",
    "L"
   ]
  },
  {
   "cell_type": "code",
   "execution_count": null,
   "id": "7a501aeb",
   "metadata": {},
   "outputs": [],
   "source": [
    "grades = [[95,100,100],[86,90,75],[98,98,96],[78,90,80],[70,68,72]]\n",
    "for i in range(5):\n",
    "    sub_total = 0\n",
    "    for j in range(3):\n",
    "        sub_total += grades[i][j]\n",
    "    grades[i].append(sub_total)\n",
    "for i in range(5):\n",
    "    print(f'學生{i+1} 的總分為 {grades[i][3]}')"
   ]
  },
  {
   "cell_type": "markdown",
   "id": "6e49d9e4",
   "metadata": {},
   "source": [
    "## 6-2 tuple (序對)\n",
    "**重點：** 有序、不可變。"
   ]
  },
  {
   "cell_type": "code",
   "execution_count": null,
   "id": "98a1fe87",
   "metadata": {},
   "outputs": [],
   "source": [
    "tuple1 = tuple(); tuple2 = tuple((1,2,3)); tuple3 = (); tuple4 = (1,2,3)\n",
    "T = (50,20,40,20,30,20,10)\n",
    "(tuple1, tuple2, tuple3, tuple4, T.index(20), T.count(20), T[1:4], (1,2)+(3,4), (1,)*3)"
   ]
  },
  {
   "cell_type": "markdown",
   "id": "3ff7f0cd",
   "metadata": {},
   "source": [
    "## 6-3 set (集合)\n",
    "**重點：** 無序、不重複、可變。"
   ]
  },
  {
   "cell_type": "code",
   "execution_count": null,
   "id": "40b652fe",
   "metadata": {},
   "outputs": [],
   "source": [
    "set1 = set(); set2 = set({1,2,3}); set3 = {'台北','紐約'}\n",
    "S = {1,2,3,4,5}\n",
    "(len(S), max(S), min(S), sum(S), set1, set2, set3)"
   ]
  },
  {
   "cell_type": "code",
   "execution_count": null,
   "id": "7f088964",
   "metadata": {},
   "outputs": [],
   "source": [
    "S1 = {'小丸子','小玉','花輪'}\n",
    "S2 = {'丸尾','小丸子','花輪','小玉'}\n",
    "S3 = {'花輪','小丸子','小玉'}\n",
    "(S1 == S3, S1 != S2, S1 <= S2, S1 < S2, S1 >= S2, S1 > S2, S2 > S3, S2 >= S3)"
   ]
  },
  {
   "cell_type": "code",
   "execution_count": null,
   "id": "5f0459b5",
   "metadata": {},
   "outputs": [],
   "source": [
    "S1 = {10,20,30,40,50}\n",
    "S1.add(60); S1.remove(30); _ = S1.pop(); S2 = S1.copy(); S1.clear(); (S1, S2)"
   ]
  },
  {
   "cell_type": "code",
   "execution_count": null,
   "id": "3d1cff9d",
   "metadata": {},
   "outputs": [],
   "source": [
    "S1 = {'小丸子','小玉','花輪'}; S2 = {'丸尾','小丸子','花輪','小玉'}\n",
    "S1.issubset(S2), S1.issuperset(S2)"
   ]
  },
  {
   "cell_type": "code",
   "execution_count": null,
   "id": "074dc3c9",
   "metadata": {},
   "outputs": [],
   "source": [
    "A, B = {1,2,3}, {3,4,5}\n",
    "(A.isdisjoint({6,7}), A.union(B), A.intersection(B), A.difference(B), A.symmetric_difference(B))"
   ]
  },
  {
   "cell_type": "markdown",
   "id": "5d9774e8",
   "metadata": {},
   "source": [
    "## 6-4 dict (字典)\n",
    "**重點：** 對映 (鍵→值)、無序、鍵不可重複。"
   ]
  },
  {
   "cell_type": "code",
   "execution_count": null,
   "id": "869ee463",
   "metadata": {},
   "outputs": [],
   "source": [
    "A = {'one':1,'two':2,'three':3}\n",
    "B = dict({'three':3,'one':1,'two':2})\n",
    "C = dict(one=1, two=2, three=3)\n",
    "D = dict([('two',2),('one',1),('three',3)])\n",
    "E = {}\n",
    "A, B, C, D, E"
   ]
  },
  {
   "cell_type": "code",
   "execution_count": null,
   "id": "33a9b7f1",
   "metadata": {},
   "outputs": [],
   "source": [
    "A = {'one':1,'two':2,'three':3}\n",
    "val = A['one']\n",
    "A['four'] = 4\n",
    "A['four'] = '四'\n",
    "removed = A.pop('four') if 'four' in A else None\n",
    "A, val, removed"
   ]
  },
  {
   "cell_type": "code",
   "execution_count": null,
   "id": "97a6ba5f",
   "metadata": {},
   "outputs": [],
   "source": [
    "D1 = {'user1':'小丸子','user2':'小玉','user3':'花輪'}\n",
    "(D1.get('user1'), D1.pop('user2'), D1, D1.popitem(), D1)"
   ]
  },
  {
   "cell_type": "code",
   "execution_count": null,
   "id": "5c797cff",
   "metadata": {},
   "outputs": [],
   "source": [
    "D1 = {'user1':'小丸子','user2':'小玉','user3':'花輪'}\n",
    "(tuple(D1.keys()), tuple(D1.values()), tuple(D1.items()))"
   ]
  },
  {
   "cell_type": "code",
   "execution_count": null,
   "id": "e68213bb",
   "metadata": {},
   "outputs": [],
   "source": [
    "D1 = {'user1':'小丸子','user2':'小玉','user3':'花輪'}\n",
    "D2 = D1.copy(); D2.clear()\n",
    "D1b = {'user1':'丸尾','user2':'小玉','user4':'永澤'}\n",
    "D1.update(D1b)\n",
    "D1, D2"
   ]
  },
  {
   "cell_type": "markdown",
   "id": "b694a4b3",
   "metadata": {},
   "source": [
    "## 作業\n",
    "- 嘗試用 `list/tuple/set/dict` 表達同一組資料，體會它們在**可變性、是否有序、是否可重複**上的差異，並寫下你的選擇理由。"
   ]
  }
 ],
 "metadata": {},
 "nbformat": 4,
 "nbformat_minor": 5
}