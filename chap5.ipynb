{
 "cells": [
  {
   "cell_type": "markdown",
   "id": "ffbcb9b9",
   "metadata": {},
   "source": [
    "# 第五章 函式\n",
    "---\n",
    "本章介紹 Python 的函式，包括定義、呼叫、參數傳遞、傳回值、變數作用域、遞迴、lambda 運算式以及日期時間函式。"
   ]
  },
  {
   "cell_type": "markdown",
   "id": "d1386e46",
   "metadata": {},
   "source": [
    "## 5-1 認識函式\n",
    "函式是將一段具有特定功能的程式碼包裝起來，並給予名稱，以便重複呼叫。這樣可以提升程式的可讀性與維護性。"
   ]
  },
  {
   "cell_type": "markdown",
   "id": "69f42547",
   "metadata": {},
   "source": [
    "## 5-2 定義函式\n",
    "函式使用 `def` 關鍵字定義，可以有參數與傳回值。"
   ]
  },
  {
   "cell_type": "code",
   "execution_count": null,
   "id": "665b2e25",
   "metadata": {},
   "outputs": [],
   "source": [
    "def CtoF1(degreeC):\n",
    "    degreeF = degreeC * 1.8 + 32\n",
    "    print(\"攝氏\", degreeC, \"度 = 華氏\", degreeF, \"度\")\n",
    "\n",
    "# 使用 return 的版本\n",
    "def CtoF2(degreeC):\n",
    "    degreeF = degreeC * 1.8 + 32\n",
    "    return degreeF"
   ]
  },
  {
   "cell_type": "markdown",
   "id": "cc2bcbb7",
   "metadata": {},
   "source": [
    "## 5-3 呼叫函式\n",
    "函式必須被呼叫才會執行。呼叫時可傳入引數 (arguments)。"
   ]
  },
  {
   "cell_type": "code",
   "execution_count": null,
   "id": "5f5199d3",
   "metadata": {},
   "outputs": [],
   "source": [
    "def CtoF1(degreeC):\n",
    "    degreeF = degreeC * 1.8 + 32\n",
    "    print(\"攝氏\", degreeC, \"度 = 華氏\", degreeF, \"度\")\n",
    "\n",
    "tempC = eval(input(\"請輸入攝氏溫度：\"))\n",
    "CtoF1(tempC)"
   ]
  },
  {
   "cell_type": "markdown",
   "id": "2aeba3ec",
   "metadata": {},
   "source": [
    "## 5-4 函式的參數\n",
    "### 5-4-1 傳值與傳址\n",
    "- 不可變物件 (int, str, tuple)：傳值呼叫\n",
    "- 可變物件 (list, set, dict)：傳址呼叫"
   ]
  },
  {
   "cell_type": "code",
   "execution_count": null,
   "id": "cfdedef4",
   "metadata": {},
   "outputs": [],
   "source": [
    "def swap_value(x, y):\n",
    "    temp = x\n",
    "    x = y\n",
    "    y = temp\n",
    "    print(\"函式內部交換後：\", x, y)\n",
    "\n",
    "a, b = 1, 2\n",
    "print(\"交換前：\", a, b)\n",
    "swap_value(a, b)\n",
    "print(\"交換後：\", a, b)  # 外部不受影響"
   ]
  },
  {
   "cell_type": "code",
   "execution_count": null,
   "id": "da04f60d",
   "metadata": {},
   "outputs": [],
   "source": [
    "def swap_reference(x):\n",
    "    temp = x[0]\n",
    "    x[0] = x[1]\n",
    "    x[1] = temp\n",
    "\n",
    "a = [1, 2]\n",
    "print(\"交換前：\", a)\n",
    "swap_reference(a)\n",
    "print(\"交換後：\", a)  # 外部有影響"
   ]
  },
  {
   "cell_type": "markdown",
   "id": "c8072212",
   "metadata": {},
   "source": [
    "### 5-4-2 關鍵字引數\n",
    "呼叫函式時可以指定參數名稱，避免順序錯誤。"
   ]
  },
  {
   "cell_type": "code",
   "execution_count": null,
   "id": "0f9cd225",
   "metadata": {},
   "outputs": [],
   "source": [
    "def trapezoidArea(top, bottom, height):\n",
    "    result = (top + bottom) * height / 2\n",
    "    print(\"梯形面積 =\", result)\n",
    "\n",
    "trapezoidArea(10, 20, 5)\n",
    "trapezoidArea(top=10, bottom=20, height=5)\n",
    "trapezoidArea(height=5, bottom=20, top=10)"
   ]
  },
  {
   "cell_type": "markdown",
   "id": "8c8f4c56",
   "metadata": {},
   "source": [
    "### 5-4-3 預設引數值\n",
    "定義函式時，可以給參數設定預設值。"
   ]
  },
  {
   "cell_type": "code",
   "execution_count": null,
   "id": "348eaf81",
   "metadata": {},
   "outputs": [],
   "source": [
    "def teaTime(dessert, drink=\"紅茶\"):\n",
    "    print(\"甜點：\", dessert, \", 飲料：\", drink)\n",
    "\n",
    "teaTime(\"馬卡龍\", \"咖啡\")\n",
    "teaTime(\"帕尼尼\")\n",
    "teaTime(dessert=\"三明治\", drink=\"奶茶\")\n",
    "teaTime(\"紅豆餅\", drink=\"綠茶\")"
   ]
  },
  {
   "cell_type": "markdown",
   "id": "c8f1c01d",
   "metadata": {},
   "source": [
    "### 5-4-4 任意引數串列\n",
    "使用 `*參數名` 可以接收不定數量的引數。"
   ]
  },
  {
   "cell_type": "code",
   "execution_count": null,
   "id": "1629663a",
   "metadata": {},
   "outputs": [],
   "source": [
    "def add(*numbers):\n",
    "    total = 0\n",
    "    for i in numbers:\n",
    "        total += i\n",
    "    return total\n",
    "\n",
    "print(add(1))\n",
    "print(add(1, 2, 3, 4, 5))"
   ]
  },
  {
   "cell_type": "markdown",
   "id": "1f956f88",
   "metadata": {},
   "source": [
    "## 5-5 函式的傳回值\n",
    "函式可以使用 `return` 傳回一個或多個值。"
   ]
  },
  {
   "cell_type": "code",
   "execution_count": null,
   "id": "21948e8b",
   "metadata": {},
   "outputs": [],
   "source": [
    "def divmod_custom(x, y):\n",
    "    div = x // y\n",
    "    mod = x % y\n",
    "    return div, mod\n",
    "\n",
    "q, r = divmod_custom(100, 7)\n",
    "print(\"100 ÷ 7 商 =\", q, \"餘數 =\", r)"
   ]
  },
  {
   "cell_type": "markdown",
   "id": "21f390ac",
   "metadata": {},
   "source": [
    "## 5-6 全域變數與區域變數\n",
    "在函式內定義的變數是區域變數，只在函式內有效；函式外的變數是全域變數。"
   ]
  },
  {
   "cell_type": "code",
   "execution_count": null,
   "id": "ba00ba88",
   "metadata": {},
   "outputs": [],
   "source": [
    "def f1():\n",
    "    x = 1  # 區域變數\n",
    "    print(\"函式內 x =\", x)\n",
    "\n",
    "f1()\n",
    "# print(x)  # 這裡會發生錯誤，因為 x 在函式外不可見"
   ]
  },
  {
   "cell_type": "markdown",
   "id": "119f3a92",
   "metadata": {},
   "source": [
    "## 5-7 遞迴函式\n",
    "遞迴函式會呼叫自己，常用於數學問題（例如階乘）。"
   ]
  },
  {
   "cell_type": "code",
   "execution_count": null,
   "id": "b677ef26",
   "metadata": {},
   "outputs": [],
   "source": [
    "def factorial(n):\n",
    "    if n == 0:\n",
    "        return 1\n",
    "    elif n > 0:\n",
    "        return n * factorial(n - 1)\n",
    "    else:\n",
    "        return -1\n",
    "\n",
    "print(\"0! =\", factorial(0))\n",
    "print(\"5! =\", factorial(5))"
   ]
  },
  {
   "cell_type": "markdown",
   "id": "ddd01111",
   "metadata": {},
   "source": [
    "## 5-8 lambda 運算式\n",
    "`lambda` 可建立匿名函式，適合一次性使用的情境。"
   ]
  },
  {
   "cell_type": "code",
   "execution_count": null,
   "id": "e4d3c50f",
   "metadata": {},
   "outputs": [],
   "source": [
    "add = lambda x, y: x + y\n",
    "print(add(1, 2))\n",
    "print(add(\"abc\", \"de\"))\n",
    "\n",
    "# 直接呼叫\n",
    "print((lambda x, y: x * y)(3, 4))"
   ]
  },
  {
   "cell_type": "markdown",
   "id": "0e88638b",
   "metadata": {},
   "source": [
    "## 5-9 日期時間函式\n",
    "Python 提供 `time` 與 `calendar` 模組來處理時間與日期。"
   ]
  },
  {
   "cell_type": "markdown",
   "id": "9a4ec97a",
   "metadata": {},
   "source": [
    "### 5-9-1 time 模組"
   ]
  },
  {
   "cell_type": "code",
   "execution_count": null,
   "id": "bf9e4ec9",
   "metadata": {},
   "outputs": [],
   "source": [
    "import time\n",
    "print(time.time())         # 取得目前時間戳記\n",
    "print(time.gmtime())        # 取得 UTC 時間\n",
    "print(time.localtime())     # 取得本地時間\n",
    "print(time.strftime(\"%Y-%m-%d %H:%M:%S\"))"
   ]
  },
  {
   "cell_type": "markdown",
   "id": "72185fc2",
   "metadata": {},
   "source": [
    "### 5-9-2 calendar 模組"
   ]
  },
  {
   "cell_type": "code",
   "execution_count": null,
   "id": "07825435",
   "metadata": {},
   "outputs": [],
   "source": [
    "import calendar\n",
    "print(calendar.isleap(2024))  # 是否為閏年\n",
    "print(calendar.weekday(2024, 3, 16))  # 回傳星期幾 (0=星期一)\n",
    "print(calendar.month(2024, 1))  # 輸出 2024 年 1 月的月曆"
   ]
  },
  {
   "cell_type": "markdown",
   "id": "813c52af",
   "metadata": {},
   "source": [
    "## 作業\n",
    "1. 完成第4與第5章學習評量選擇題。\n",
    "2. 練習題：\n",
    "   - 第4章：組員1（第7題）、組員2（第8題）\n",
    "   - 第5章：組員1（第5題）、組員2（第6題）\n",
    "3. 繳交 Word 檔，內含 Spyder 程式與執行結果截圖（需包含可識別組別之文字）。"
   ]
  }
 ],
 "metadata": {},
 "nbformat": 4,
 "nbformat_minor": 5
}